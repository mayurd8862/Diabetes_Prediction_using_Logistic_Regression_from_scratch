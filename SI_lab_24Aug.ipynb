{
 "cells": [
  {
   "cell_type": "markdown",
   "metadata": {},
   "source": [
    "## Principal Component Analysis"
   ]
  },
  {
   "cell_type": "code",
   "execution_count": 132,
   "metadata": {},
   "outputs": [],
   "source": [
    "import numpy as np\n",
    "import pandas as pd\n",
    "import matplotlib.pyplot as plt\n",
    "from sklearn.datasets import load_iris\n",
    "from sklearn.preprocessing import StandardScaler\n",
    "from sklearn.decomposition import PCA"
   ]
  },
  {
   "cell_type": "code",
   "execution_count": 133,
   "metadata": {},
   "outputs": [],
   "source": [
    "# Load the Iris dataset\n",
    "iris = load_iris()\n",
    "X = iris.data\n",
    "y = iris.target\n",
    "target_names = iris.target_names\n"
   ]
  },
  {
   "cell_type": "code",
   "execution_count": null,
   "metadata": {},
   "outputs": [],
   "source": []
  },
  {
   "cell_type": "code",
   "execution_count": 134,
   "metadata": {},
   "outputs": [],
   "source": [
    "# Standardize the features\n",
    "scaler = StandardScaler()\n",
    "X_scaled = scaler.fit_transform(X)"
   ]
  },
  {
   "cell_type": "code",
   "execution_count": 135,
   "metadata": {},
   "outputs": [],
   "source": [
    "# Apply PCA\n",
    "pca = PCA(n_components=2)\n",
    "X_pca = pca.fit_transform(X_scaled)"
   ]
  },
  {
   "cell_type": "code",
   "execution_count": 136,
   "metadata": {},
   "outputs": [],
   "source": [
    "# Create a DataFrame for visualization\n",
    "df = pd.DataFrame(data=X_pca, columns=['PC1', 'PC2'])\n",
    "df['target'] = y\n"
   ]
  },
  {
   "cell_type": "code",
   "execution_count": 137,
   "metadata": {},
   "outputs": [
    {
     "data": {
      "image/png": "[encoded data removed]",
      "text/plain": [
       "<Figure size 1000x600 with 1 Axes>"
      ]
     },
     "metadata": {},
     "output_type": "display_data"
    }
   ],
   "source": [
    "\n",
    "# Scree Plot\n",
    "per_var = np.round(pca.explained_variance_ratio_ * 100, decimals=1)\n",
    "labels = ['PC' + str(x) for x in range(1, len(per_var) + 1)]\n",
    "\n",
    "plt.figure(figsize=(10, 6))\n",
    "plt.bar(x=range(1, len(per_var) + 1), height=per_var, tick_label=labels)\n",
    "plt.ylabel('Percentage of Explained Variance')\n",
    "plt.xlabel('Principal Components')\n",
    "plt.title('Scree Plot')\n",
    "\n",
    "plt.show()"
   ]
  },
  {
   "cell_type": "code",
   "execution_count": null,
   "metadata": {},
   "outputs": [],
   "source": []
  },
  {
   "cell_type": "markdown",
   "metadata": {},
   "source": [
    "## PCA without using sklearn library\n"
   ]
  },
  {
   "cell_type": "code",
   "execution_count": 138,
   "metadata": {},
   "outputs": [
    {
     "name": "stdout",
     "output_type": "stream",
     "text": [
      "Reduced Data:\n",
      " [[-1.03923048e+01  6.66133815e-16]\n",
      " [-5.19615242e+00  3.33066907e-16]\n",
      " [ 0.00000000e+00  0.00000000e+00]\n",
      " [ 5.19615242e+00 -3.33066907e-16]\n",
      " [ 1.03923048e+01 -6.66133815e-16]]\n",
      "Eigenvalues:\n",
      " [ 6.75000000e+01  5.11888017e-16 -3.65705749e-16]\n",
      "Principal Components:\n",
      " [[ 0.57735027 -0.52707631]\n",
      " [ 0.57735027 -0.27650158]\n",
      " [ 0.57735027  0.8035779 ]]\n"
     ]
    }
   ],
   "source": [
    "import numpy as np\n",
    "\n",
    "def mean_normalize(X):\n",
    "    mean = np.mean(X, axis=0)\n",
    "    normalized_X = X - mean\n",
    "    return normalized_X, mean\n",
    "\n",
    "def compute_covariance_matrix(X):\n",
    "    m = X.shape[0]\n",
    "    covariance_matrix = np.dot(X.T, X) / (m - 1)\n",
    "    return covariance_matrix\n",
    "\n",
    "def perform_pca(X, num_components):\n",
    "    normalized_X, mean = mean_normalize(X)\n",
    "    covariance_matrix = compute_covariance_matrix(normalized_X)\n",
    "    eigenvalues, eigenvectors = np.linalg.eigh(covariance_matrix)\n",
    "    \n",
    "    # Sort eigenvalues and corresponding eigenvectors in descending order\n",
    "    sorted_indices = np.argsort(eigenvalues)[::-1]\n",
    "    eigenvalues = eigenvalues[sorted_indices]\n",
    "    eigenvectors = eigenvectors[:, sorted_indices]\n",
    "    \n",
    "    # Select the top 'num_components' eigenvectors\n",
    "    principal_components = eigenvectors[:, :num_components]\n",
    "    \n",
    "    # Project the data onto the principal components\n",
    "    reduced_X = np.dot(normalized_X, principal_components)\n",
    "    \n",
    "    return reduced_X, eigenvalues, principal_components, mean\n",
    "\n",
    "# Example usage\n",
    "# Create a sample dataset with 3 features and 5 observations\n",
    "data = np.array([[1, 2, 3],\n",
    "                 [4, 5, 6],\n",
    "                 [7, 8, 9],\n",
    "                 [10, 11, 12],\n",
    "                 [13, 14, 15]])\n",
    "\n",
    "num_components = 2  # Number of principal components to keep\n",
    "reduced_data, eigenvalues, principal_components, mean = perform_pca(data, num_components)\n",
    "\n",
    "print(\"Reduced Data:\\n\", reduced_data)\n",
    "print(\"Eigenvalues:\\n\", eigenvalues)\n",
    "print(\"Principal Components:\\n\", principal_components)\n"
   ]
  },
  {
   "cell_type": "code",
   "execution_count": 139,
   "metadata": {},
   "outputs": [],
   "source": [
    "import numpy as np\n",
    "import pandas as pd"
   ]
  },
  {
   "cell_type": "code",
   "execution_count": 140,
   "metadata": {},
   "outputs": [
    {
     "data": {
      "text/plain": [
       "2.3499999999999996"
      ]
     },
     "execution_count": 140,
     "metadata": {},
     "output_type": "execute_result"
    }
   ],
   "source": [
    "def mean_norm(X):\n",
    "    m = X.shape[1]\n",
    "    for i in range(m):\n",
    "        mean = np.mean(X[i])\n",
    "        normalized_X = X - mean\n",
    "    return normalized_X, mean\n",
    "\n",
    "\n",
    "# # def mean_normalize(X):\n",
    "# #     mean = np.mean(X, axis=0)\n",
    "# #     normalized_X = X - mean\n",
    "# #     return normalized_X, mean\n",
    "# normalized_X, mean = mean_norm(X)\n",
    "# X.shape[1]\n",
    "normalized_X, mean = mean_norm(X)\n",
    "mean"
   ]
  },
  {
   "cell_type": "code",
   "execution_count": null,
   "metadata": {},
   "outputs": [],
   "source": []
  },
  {
   "cell_type": "code",
   "execution_count": 141,
   "metadata": {},
   "outputs": [
    {
     "data": {
      "text/plain": [
       "[2.672755797820954]"
      ]
     },
     "execution_count": 141,
     "metadata": {},
     "output_type": "execute_result"
    }
   ],
   "source": [
    "import numpy as np\n",
    "from sklearn.datasets import load_iris\n",
    "import matplotlib.pyplot as plt\n",
    "\n",
    "def mean_normalize(X):\n",
    "    mean = np.mean(X, axis=0)\n",
    "    normalized_X = X - mean\n",
    "    return normalized_X, mean\n",
    "\n",
    "def compute_covariance_matrix(X):\n",
    "    m = X.shape[0]\n",
    "    covariance_matrix = np.dot(X.T, X) / (m - 1)\n",
    "    return covariance_matrix\n",
    "\n",
    "def perform_pca(X, num_components):\n",
    "    normalized_X, mean = mean_normalize(X)\n",
    "    covariance_matrix = compute_covariance_matrix(normalized_X)\n",
    "    eigenvalues, eigenvectors = np.linalg.eigh(covariance_matrix)\n",
    "    \n",
    "    # Sort eigenvalues and corresponding eigenvectors in descending order\n",
    "    sorted_indices = np.argsort(eigenvalues)[::-1]\n",
    "    eigenvalues = eigenvalues[sorted_indices]\n",
    "    eigenvectors = eigenvectors[:, sorted_indices]\n",
    "    \n",
    "    # Select the top 'num_components' eigenvectors\n",
    "    principal_components = eigenvectors[:, :num_components]\n",
    "    \n",
    "    # Project the data onto the principal components\n",
    "    reduced_X = np.dot(normalized_X, principal_components)\n",
    "    \n",
    "    return reduced_X, eigenvalues, principal_components, mean, eigenvectors\n",
    "\n",
    "# Load the Iris dataset\n",
    "iris = load_iris()\n",
    "X = iris.data\n",
    "\n",
    "num_components = 2  # Number of principal components to keep\n",
    "reduced_data, eigenvalues, principal_components, mean,a = perform_pca(X, num_components)\n",
    "\n",
    "# Plot the PCA results\n",
    "# plt.scatter(reduced_data[:, 0], reduced_data[:, 1], c=iris.target)\n",
    "# plt.xlabel('Principal Component 1')\n",
    "# plt.ylabel('Principal Component 2')\n",
    "# plt.title('PCA of Iris Dataset')\n",
    "# plt.show()\n",
    "\n",
    "# a,b = mean_normalize(X)\n",
    "\n",
    "# reduced_X, eigenvalues, principal_components, mean = perform_pca(X, num_components)\n",
    "# reduced_X\n",
    "# eigenvalues\n",
    "# print(reduced_data)\n",
    "\n",
    "# print(eigenvalues)\n",
    "# print(principal_components)\n",
    "for i in range(10):\n",
    "    a = []\n",
    "    a.append(reduced_data[i][0])\n",
    "a\n",
    "\n",
    "\n",
    "\n",
    "\n",
    "\n"
   ]
  },
  {
   "cell_type": "code",
   "execution_count": 142,
   "metadata": {},
   "outputs": [],
   "source": [
    "\n",
    "# def compute_covariance_matrix(X):\n",
    "#     m = X.shape[0]\n",
    "#     covariance_matrix = np.dot(X.T, X) / (m - 1)\n",
    "#     return covariance_matrix\n",
    "\n",
    "# compute_covariance_matrix(X)"
   ]
  }
 ],
 "metadata": {
  "kernelspec": {
   "display_name": "Python 3",
   "language": "python",
   "name": "python3"
  },
  "language_info": {
   "codemirror_mode": {
    "name": "ipython",
    "version": 3
   },
   "file_extension": ".py",
   "mimetype": "text/x-python",
   "name": "python",
   "nbconvert_exporter": "python",
   "pygments_lexer": "ipython3",
   "version": "3.11.4"
  },
  "orig_nbformat": 4
 },
 "nbformat": 4,
 "nbformat_minor": 2
}
